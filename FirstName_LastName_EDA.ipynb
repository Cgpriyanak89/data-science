{
 "cells": [
  {
   "cell_type": "code",
   "execution_count": 1,
   "id": "24b8496d-e999-43b0-832a-fa52b02fd6b2",
   "metadata": {},
   "outputs": [],
   "source": [
    "import numpy as np\n",
    "import pandas as pd \n",
    "import seaborn as sns"
   ]
  },
  {
   "cell_type": "markdown",
   "id": "f449a093-4d2c-4e79-8647-5dd542861724",
   "metadata": {},
   "source": [
    "### loading datasets"
   ]
  },
  {
   "cell_type": "code",
   "execution_count": 2,
   "id": "928e6acc-9561-4a2f-96c2-65b718a15f4c",
   "metadata": {},
   "outputs": [],
   "source": [
    "product=pd.read_csv(\"Products.csv\")"
   ]
  },
  {
   "cell_type": "code",
   "execution_count": 3,
   "id": "298172eb-fc1f-4810-8740-47a55344beed",
   "metadata": {},
   "outputs": [],
   "source": [
    "customer=pd.read_csv(\"Customers.csv\")"
   ]
  },
  {
   "cell_type": "code",
   "execution_count": 4,
   "id": "74a58f2d-3700-4f53-9e5e-d5e7d659ed68",
   "metadata": {},
   "outputs": [],
   "source": [
    "transaction=pd.read_csv(\"Transactions.csv\")"
   ]
  },
  {
   "cell_type": "markdown",
   "id": "6992c37e-92d0-48c6-baf1-682cb9d0a3d4",
   "metadata": {},
   "source": [
    "### inspecting datasets"
   ]
  },
  {
   "cell_type": "code",
   "execution_count": 11,
   "id": "e615b353-026a-41d0-8582-06686c135879",
   "metadata": {},
   "outputs": [
    {
     "data": {
      "text/html": [
       "<div>\n",
       "<style scoped>\n",
       "    .dataframe tbody tr th:only-of-type {\n",
       "        vertical-align: middle;\n",
       "    }\n",
       "\n",
       "    .dataframe tbody tr th {\n",
       "        vertical-align: top;\n",
       "    }\n",
       "\n",
       "    .dataframe thead th {\n",
       "        text-align: right;\n",
       "    }\n",
       "</style>\n",
       "<table border=\"1\" class=\"dataframe\">\n",
       "  <thead>\n",
       "    <tr style=\"text-align: right;\">\n",
       "      <th></th>\n",
       "      <th>ProductID</th>\n",
       "      <th>ProductName</th>\n",
       "      <th>Category</th>\n",
       "      <th>Price</th>\n",
       "    </tr>\n",
       "  </thead>\n",
       "  <tbody>\n",
       "    <tr>\n",
       "      <th>0</th>\n",
       "      <td>P001</td>\n",
       "      <td>ActiveWear Biography</td>\n",
       "      <td>Books</td>\n",
       "      <td>169.30</td>\n",
       "    </tr>\n",
       "    <tr>\n",
       "      <th>1</th>\n",
       "      <td>P002</td>\n",
       "      <td>ActiveWear Smartwatch</td>\n",
       "      <td>Electronics</td>\n",
       "      <td>346.30</td>\n",
       "    </tr>\n",
       "    <tr>\n",
       "      <th>2</th>\n",
       "      <td>P003</td>\n",
       "      <td>ComfortLiving Biography</td>\n",
       "      <td>Books</td>\n",
       "      <td>44.12</td>\n",
       "    </tr>\n",
       "    <tr>\n",
       "      <th>3</th>\n",
       "      <td>P004</td>\n",
       "      <td>BookWorld Rug</td>\n",
       "      <td>Home Decor</td>\n",
       "      <td>95.69</td>\n",
       "    </tr>\n",
       "    <tr>\n",
       "      <th>4</th>\n",
       "      <td>P005</td>\n",
       "      <td>TechPro T-Shirt</td>\n",
       "      <td>Clothing</td>\n",
       "      <td>429.31</td>\n",
       "    </tr>\n",
       "  </tbody>\n",
       "</table>\n",
       "</div>"
      ],
      "text/plain": [
       "  ProductID              ProductName     Category   Price\n",
       "0      P001     ActiveWear Biography        Books  169.30\n",
       "1      P002    ActiveWear Smartwatch  Electronics  346.30\n",
       "2      P003  ComfortLiving Biography        Books   44.12\n",
       "3      P004            BookWorld Rug   Home Decor   95.69\n",
       "4      P005          TechPro T-Shirt     Clothing  429.31"
      ]
     },
     "execution_count": 11,
     "metadata": {},
     "output_type": "execute_result"
    }
   ],
   "source": [
    "product.head()"
   ]
  },
  {
   "cell_type": "code",
   "execution_count": 15,
   "id": "6d0c066f-6925-4f57-a6ac-6540049777e4",
   "metadata": {},
   "outputs": [
    {
     "data": {
      "text/html": [
       "<div>\n",
       "<style scoped>\n",
       "    .dataframe tbody tr th:only-of-type {\n",
       "        vertical-align: middle;\n",
       "    }\n",
       "\n",
       "    .dataframe tbody tr th {\n",
       "        vertical-align: top;\n",
       "    }\n",
       "\n",
       "    .dataframe thead th {\n",
       "        text-align: right;\n",
       "    }\n",
       "</style>\n",
       "<table border=\"1\" class=\"dataframe\">\n",
       "  <thead>\n",
       "    <tr style=\"text-align: right;\">\n",
       "      <th></th>\n",
       "      <th>ProductID</th>\n",
       "      <th>ProductName</th>\n",
       "      <th>Category</th>\n",
       "      <th>Price</th>\n",
       "    </tr>\n",
       "  </thead>\n",
       "  <tbody>\n",
       "    <tr>\n",
       "      <th>95</th>\n",
       "      <td>P096</td>\n",
       "      <td>SoundWave Headphones</td>\n",
       "      <td>Electronics</td>\n",
       "      <td>307.47</td>\n",
       "    </tr>\n",
       "    <tr>\n",
       "      <th>96</th>\n",
       "      <td>P097</td>\n",
       "      <td>BookWorld Cookbook</td>\n",
       "      <td>Books</td>\n",
       "      <td>319.34</td>\n",
       "    </tr>\n",
       "    <tr>\n",
       "      <th>97</th>\n",
       "      <td>P098</td>\n",
       "      <td>SoundWave Laptop</td>\n",
       "      <td>Electronics</td>\n",
       "      <td>299.93</td>\n",
       "    </tr>\n",
       "    <tr>\n",
       "      <th>98</th>\n",
       "      <td>P099</td>\n",
       "      <td>SoundWave Mystery Book</td>\n",
       "      <td>Books</td>\n",
       "      <td>354.29</td>\n",
       "    </tr>\n",
       "    <tr>\n",
       "      <th>99</th>\n",
       "      <td>P100</td>\n",
       "      <td>HomeSense Sweater</td>\n",
       "      <td>Clothing</td>\n",
       "      <td>126.34</td>\n",
       "    </tr>\n",
       "  </tbody>\n",
       "</table>\n",
       "</div>"
      ],
      "text/plain": [
       "   ProductID             ProductName     Category   Price\n",
       "95      P096    SoundWave Headphones  Electronics  307.47\n",
       "96      P097      BookWorld Cookbook        Books  319.34\n",
       "97      P098        SoundWave Laptop  Electronics  299.93\n",
       "98      P099  SoundWave Mystery Book        Books  354.29\n",
       "99      P100       HomeSense Sweater     Clothing  126.34"
      ]
     },
     "execution_count": 15,
     "metadata": {},
     "output_type": "execute_result"
    }
   ],
   "source": [
    "product.tail()"
   ]
  },
  {
   "cell_type": "code",
   "execution_count": 41,
   "id": "9fb69da6-b1a9-40af-a4ac-b613e50e1b48",
   "metadata": {},
   "outputs": [
    {
     "name": "stdout",
     "output_type": "stream",
     "text": [
      "<class 'pandas.core.frame.DataFrame'>\n",
      "RangeIndex: 100 entries, 0 to 99\n",
      "Data columns (total 4 columns):\n",
      " #   Column       Non-Null Count  Dtype  \n",
      "---  ------       --------------  -----  \n",
      " 0   ProductID    100 non-null    object \n",
      " 1   ProductName  100 non-null    object \n",
      " 2   Category     100 non-null    object \n",
      " 3   Price        100 non-null    float64\n",
      "dtypes: float64(1), object(3)\n",
      "memory usage: 3.3+ KB\n"
     ]
    }
   ],
   "source": [
    "product.info()"
   ]
  },
  {
   "cell_type": "code",
   "execution_count": 17,
   "id": "f263927a-0534-40bd-8cbc-553b6f7bb541",
   "metadata": {},
   "outputs": [
    {
     "data": {
      "text/plain": [
       "(100, 4)"
      ]
     },
     "execution_count": 17,
     "metadata": {},
     "output_type": "execute_result"
    }
   ],
   "source": [
    "product.shape"
   ]
  },
  {
   "cell_type": "code",
   "execution_count": 19,
   "id": "74cb3ac2-5b0d-4175-9a84-a37701d6aa36",
   "metadata": {},
   "outputs": [
    {
     "data": {
      "text/html": [
       "<div>\n",
       "<style scoped>\n",
       "    .dataframe tbody tr th:only-of-type {\n",
       "        vertical-align: middle;\n",
       "    }\n",
       "\n",
       "    .dataframe tbody tr th {\n",
       "        vertical-align: top;\n",
       "    }\n",
       "\n",
       "    .dataframe thead th {\n",
       "        text-align: right;\n",
       "    }\n",
       "</style>\n",
       "<table border=\"1\" class=\"dataframe\">\n",
       "  <thead>\n",
       "    <tr style=\"text-align: right;\">\n",
       "      <th></th>\n",
       "      <th>Price</th>\n",
       "    </tr>\n",
       "  </thead>\n",
       "  <tbody>\n",
       "    <tr>\n",
       "      <th>count</th>\n",
       "      <td>100.000000</td>\n",
       "    </tr>\n",
       "    <tr>\n",
       "      <th>mean</th>\n",
       "      <td>267.551700</td>\n",
       "    </tr>\n",
       "    <tr>\n",
       "      <th>std</th>\n",
       "      <td>143.219383</td>\n",
       "    </tr>\n",
       "    <tr>\n",
       "      <th>min</th>\n",
       "      <td>16.080000</td>\n",
       "    </tr>\n",
       "    <tr>\n",
       "      <th>25%</th>\n",
       "      <td>147.767500</td>\n",
       "    </tr>\n",
       "    <tr>\n",
       "      <th>50%</th>\n",
       "      <td>292.875000</td>\n",
       "    </tr>\n",
       "    <tr>\n",
       "      <th>75%</th>\n",
       "      <td>397.090000</td>\n",
       "    </tr>\n",
       "    <tr>\n",
       "      <th>max</th>\n",
       "      <td>497.760000</td>\n",
       "    </tr>\n",
       "  </tbody>\n",
       "</table>\n",
       "</div>"
      ],
      "text/plain": [
       "            Price\n",
       "count  100.000000\n",
       "mean   267.551700\n",
       "std    143.219383\n",
       "min     16.080000\n",
       "25%    147.767500\n",
       "50%    292.875000\n",
       "75%    397.090000\n",
       "max    497.760000"
      ]
     },
     "execution_count": 19,
     "metadata": {},
     "output_type": "execute_result"
    }
   ],
   "source": [
    "product.describe()"
   ]
  },
  {
   "cell_type": "code",
   "execution_count": 23,
   "id": "2acc8f4c-f32a-46be-ac08-1a8d0f872556",
   "metadata": {},
   "outputs": [
    {
     "data": {
      "text/plain": [
       "Index(['ProductID', 'ProductName', 'Category', 'Price'], dtype='object')"
      ]
     },
     "execution_count": 23,
     "metadata": {},
     "output_type": "execute_result"
    }
   ],
   "source": [
    "product.columns\n"
   ]
  },
  {
   "cell_type": "code",
   "execution_count": 25,
   "id": "972267e9-2222-48ad-b0a9-aff64958382c",
   "metadata": {},
   "outputs": [
    {
     "data": {
      "text/plain": [
       "ProductID      100\n",
       "ProductName     66\n",
       "Category         4\n",
       "Price          100\n",
       "dtype: int64"
      ]
     },
     "execution_count": 25,
     "metadata": {},
     "output_type": "execute_result"
    }
   ],
   "source": [
    "product.nunique()"
   ]
  },
  {
   "cell_type": "code",
   "execution_count": 27,
   "id": "330a8e33-23ca-4250-b0f2-69907386d0d2",
   "metadata": {},
   "outputs": [
    {
     "data": {
      "text/plain": [
       "array(['Books', 'Electronics', 'Home Decor', 'Clothing'], dtype=object)"
      ]
     },
     "execution_count": 27,
     "metadata": {},
     "output_type": "execute_result"
    }
   ],
   "source": [
    "product['Category'].unique()"
   ]
  },
  {
   "cell_type": "code",
   "execution_count": 29,
   "id": "c7afe983-f271-438f-97f9-8051e814ab89",
   "metadata": {},
   "outputs": [
    {
     "data": {
      "text/plain": [
       "array(['ActiveWear Biography', 'ActiveWear Smartwatch',\n",
       "       'ComfortLiving Biography', 'BookWorld Rug', 'TechPro T-Shirt',\n",
       "       'ActiveWear Rug', 'SoundWave Cookbook',\n",
       "       'BookWorld Bluetooth Speaker', 'BookWorld Wall Art',\n",
       "       'ComfortLiving Smartwatch', 'SoundWave Desk Lamp',\n",
       "       'ComfortLiving Headphones', 'BookWorld Smartwatch',\n",
       "       'ActiveWear Jacket', 'HomeSense Headphones',\n",
       "       'ActiveWear Running Shoes', 'ActiveWear Textbook',\n",
       "       'ComfortLiving Mystery Book', 'ComfortLiving Sweater',\n",
       "       'SoundWave Rug', 'HomeSense Wall Art', 'ActiveWear Cookware Set',\n",
       "       'SoundWave Bluetooth Speaker', 'SoundWave Headphones',\n",
       "       'HomeSense Desk Lamp', 'TechPro Headphones', 'ActiveWear Cookbook',\n",
       "       'BookWorld Cookbook', 'HomeSense T-Shirt', 'ActiveWear T-Shirt',\n",
       "       'BookWorld Jacket', 'SoundWave Smartwatch', 'TechPro Vase',\n",
       "       'TechPro Smartwatch', 'SoundWave Mystery Book',\n",
       "       'ComfortLiving Smartphone', 'ActiveWear Headphones',\n",
       "       'SoundWave Novel', 'SoundWave T-Shirt', 'BookWorld Sweater',\n",
       "       'ComfortLiving Cookware Set', 'TechPro Cookbook',\n",
       "       'TechPro Textbook', 'ComfortLiving Desk Lamp', 'SoundWave Jacket',\n",
       "       'TechPro Rug', 'BookWorld Biography', 'ActiveWear Smartphone',\n",
       "       'SoundWave Jeans', 'HomeSense Novel', 'TechPro Novel',\n",
       "       'HomeSense Running Shoes', 'SoundWave Textbook',\n",
       "       'ComfortLiving Bluetooth Speaker', 'ComfortLiving Laptop',\n",
       "       'ActiveWear Jeans', 'HomeSense Rug', 'HomeSense Sweater',\n",
       "       'ComfortLiving Rug', 'ActiveWear Wall Art',\n",
       "       'TechPro Running Shoes', 'HomeSense Bluetooth Speaker',\n",
       "       'BookWorld Running Shoes', 'HomeSense Cookware Set',\n",
       "       'BookWorld Cookware Set', 'SoundWave Laptop'], dtype=object)"
      ]
     },
     "execution_count": 29,
     "metadata": {},
     "output_type": "execute_result"
    }
   ],
   "source": [
    "product['ProductName'].unique()"
   ]
  },
  {
   "cell_type": "code",
   "execution_count": 47,
   "id": "3fd0a0ca-f673-4623-ba8c-d3dbf34d41ca",
   "metadata": {},
   "outputs": [
    {
     "name": "stdout",
     "output_type": "stream",
     "text": [
      "\n",
      "Transactions Dataset:\n",
      "  TransactionID CustomerID ProductID      TransactionDate  Quantity  \\\n",
      "0        T00001      C0199      P067  2024-08-25 12:38:23         1   \n",
      "1        T00112      C0146      P067  2024-05-27 22:23:54         1   \n",
      "2        T00166      C0127      P067  2024-04-25 07:38:55         1   \n",
      "3        T00272      C0087      P067  2024-03-26 22:55:37         2   \n",
      "4        T00363      C0070      P067  2024-03-21 15:10:10         3   \n",
      "\n",
      "   TotalValue   Price  \n",
      "0      300.68  300.68  \n",
      "1      300.68  300.68  \n",
      "2      300.68  300.68  \n",
      "3      601.36  300.68  \n",
      "4      902.04  300.68  \n"
     ]
    }
   ],
   "source": [
    "print(\"\\nTransactions Dataset:\")\n",
    "print(transaction.head())\n"
   ]
  },
  {
   "cell_type": "code",
   "execution_count": 49,
   "id": "e55f5d72-d05b-4453-8134-8ae67ebd9cc0",
   "metadata": {},
   "outputs": [
    {
     "name": "stdout",
     "output_type": "stream",
     "text": [
      "<class 'pandas.core.frame.DataFrame'>\n",
      "RangeIndex: 1000 entries, 0 to 999\n",
      "Data columns (total 7 columns):\n",
      " #   Column           Non-Null Count  Dtype  \n",
      "---  ------           --------------  -----  \n",
      " 0   TransactionID    1000 non-null   object \n",
      " 1   CustomerID       1000 non-null   object \n",
      " 2   ProductID        1000 non-null   object \n",
      " 3   TransactionDate  1000 non-null   object \n",
      " 4   Quantity         1000 non-null   int64  \n",
      " 5   TotalValue       1000 non-null   float64\n",
      " 6   Price            1000 non-null   float64\n",
      "dtypes: float64(2), int64(1), object(4)\n",
      "memory usage: 54.8+ KB\n",
      "None\n"
     ]
    }
   ],
   "source": [
    "print(transaction.info())\n"
   ]
  },
  {
   "cell_type": "code",
   "execution_count": 53,
   "id": "93e60314-9c57-4959-b240-ce16ac7a06d5",
   "metadata": {},
   "outputs": [
    {
     "name": "stdout",
     "output_type": "stream",
     "text": [
      "Customers Dataset:\n",
      "  CustomerID        CustomerName         Region  SignupDate\n",
      "0      C0001    Lawrence Carroll  South America  2022-07-10\n",
      "1      C0002      Elizabeth Lutz           Asia  2022-02-13\n",
      "2      C0003      Michael Rivera  South America  2024-03-07\n",
      "3      C0004  Kathleen Rodriguez  South America  2022-10-09\n",
      "4      C0005         Laura Weber           Asia  2022-08-15\n",
      "<class 'pandas.core.frame.DataFrame'>\n",
      "RangeIndex: 200 entries, 0 to 199\n",
      "Data columns (total 4 columns):\n",
      " #   Column        Non-Null Count  Dtype \n",
      "---  ------        --------------  ----- \n",
      " 0   CustomerID    200 non-null    object\n",
      " 1   CustomerName  200 non-null    object\n",
      " 2   Region        200 non-null    object\n",
      " 3   SignupDate    200 non-null    object\n",
      "dtypes: object(4)\n",
      "memory usage: 6.4+ KB\n",
      "None\n"
     ]
    }
   ],
   "source": [
    "print(\"Customers Dataset:\")\n",
    "print(customer.head())\n",
    "print(customer.info())\n"
   ]
  },
  {
   "cell_type": "markdown",
   "id": "6e02d2ef-7874-4e10-9e31-625bf83ae7ab",
   "metadata": {},
   "source": [
    "### Check for missing values"
   ]
  },
  {
   "cell_type": "code",
   "execution_count": 67,
   "id": "d572648c-f7e6-407c-a7dd-fde0bb1af25a",
   "metadata": {},
   "outputs": [
    {
     "name": "stdout",
     "output_type": "stream",
     "text": [
      "\n",
      "Missing Values:\n",
      "Customer: CustomerID      0\n",
      "CustomerName    0\n",
      "Region          0\n",
      "SignupDate      0\n",
      "dtype: int64\n"
     ]
    }
   ],
   "source": [
    "print(\"\\nMissing Values:\")\n",
    "print(\"Customer:\", customer.isnull().sum())\n"
   ]
  },
  {
   "cell_type": "code",
   "execution_count": 69,
   "id": "564dbffa-e679-40da-a79d-534faaf0e0d2",
   "metadata": {},
   "outputs": [
    {
     "name": "stdout",
     "output_type": "stream",
     "text": [
      "Product: ProductID      0\n",
      "ProductName    0\n",
      "Category       0\n",
      "Price          0\n",
      "dtype: int64\n"
     ]
    }
   ],
   "source": [
    "print(\"Product:\", product.isnull().sum())\n"
   ]
  },
  {
   "cell_type": "code",
   "execution_count": 71,
   "id": "0678e2de-77a3-4f1c-ad79-3b7bf0403c96",
   "metadata": {},
   "outputs": [
    {
     "name": "stdout",
     "output_type": "stream",
     "text": [
      "Transaction: TransactionID      0\n",
      "CustomerID         0\n",
      "ProductID          0\n",
      "TransactionDate    0\n",
      "Quantity           0\n",
      "TotalValue         0\n",
      "Price              0\n",
      "dtype: int64\n"
     ]
    }
   ],
   "source": [
    "\n",
    "print(\"Transaction:\", transaction.isnull().sum())"
   ]
  },
  {
   "cell_type": "markdown",
   "id": "2c806050-04a4-4295-883e-1c685f838237",
   "metadata": {},
   "source": [
    "### Merge datasets\n"
   ]
  },
  {
   "cell_type": "code",
   "execution_count": 78,
   "id": "fc2fc673-79ae-485f-979d-209f83ff1dd7",
   "metadata": {},
   "outputs": [],
   "source": [
    "merged = transaction.merge(product, on=\"ProductID\", how=\"left\")\n",
    "merged = merged.merge(customer, on=\"CustomerID\", how=\"left\")\n"
   ]
  },
  {
   "cell_type": "code",
   "execution_count": 80,
   "id": "e42c0783-aad5-417a-b3b3-18a9db28c756",
   "metadata": {},
   "outputs": [
    {
     "name": "stdout",
     "output_type": "stream",
     "text": [
      "\n",
      "Merged Dataset:\n",
      "  TransactionID CustomerID ProductID      TransactionDate  Quantity  \\\n",
      "0        T00001      C0199      P067  2024-08-25 12:38:23         1   \n",
      "1        T00112      C0146      P067  2024-05-27 22:23:54         1   \n",
      "2        T00166      C0127      P067  2024-04-25 07:38:55         1   \n",
      "3        T00272      C0087      P067  2024-03-26 22:55:37         2   \n",
      "4        T00363      C0070      P067  2024-03-21 15:10:10         3   \n",
      "\n",
      "   TotalValue  Price_x                      ProductName     Category  Price_y  \\\n",
      "0      300.68   300.68  ComfortLiving Bluetooth Speaker  Electronics   300.68   \n",
      "1      300.68   300.68  ComfortLiving Bluetooth Speaker  Electronics   300.68   \n",
      "2      300.68   300.68  ComfortLiving Bluetooth Speaker  Electronics   300.68   \n",
      "3      601.36   300.68  ComfortLiving Bluetooth Speaker  Electronics   300.68   \n",
      "4      902.04   300.68  ComfortLiving Bluetooth Speaker  Electronics   300.68   \n",
      "\n",
      "      CustomerName         Region  SignupDate  \n",
      "0   Andrea Jenkins         Europe  2022-12-03  \n",
      "1  Brittany Harvey           Asia  2024-09-04  \n",
      "2  Kathryn Stevens         Europe  2024-04-04  \n",
      "3  Travis Campbell  South America  2024-04-11  \n",
      "4    Timothy Perez         Europe  2022-03-15  \n"
     ]
    }
   ],
   "source": [
    "print(\"\\nMerged Dataset:\")\n",
    "print(merged.head())"
   ]
  },
  {
   "cell_type": "markdown",
   "id": "dd2b263e-c1b2-4a1e-8532-a85ec34a905e",
   "metadata": {},
   "source": [
    "### Sales by Region\n"
   ]
  },
  {
   "cell_type": "code",
   "execution_count": 83,
   "id": "1d3e490f-9f2c-47a7-ba82-4c4f9cae4cd8",
   "metadata": {},
   "outputs": [
    {
     "name": "stdout",
     "output_type": "stream",
     "text": [
      "\n",
      "Sales by Region:\n",
      "Region\n",
      "South America    219352.56\n",
      "Europe           166254.63\n",
      "North America    152313.40\n",
      "Asia             152074.97\n",
      "Name: TotalValue, dtype: float64\n"
     ]
    }
   ],
   "source": [
    "region_sales = merged.groupby(\"Region\")[\"TotalValue\"].sum().sort_values(ascending=False)\n",
    "print(\"\\nSales by Region:\")\n",
    "print(region_sales)"
   ]
  },
  {
   "cell_type": "markdown",
   "id": "f093ac86-f7ef-44b3-9435-7275e3d47b7a",
   "metadata": {},
   "source": [
    "### Visualize sales by region\n"
   ]
  },
  {
   "cell_type": "code",
   "execution_count": 88,
   "id": "aac49fb3-ff2c-48c1-aaae-15b966b70be1",
   "metadata": {},
   "outputs": [],
   "source": [
    "import matplotlib.pyplot as plt"
   ]
  },
  {
   "cell_type": "code",
   "execution_count": 90,
   "id": "a2f8834d-777f-465e-bb58-aec91523f1c0",
   "metadata": {},
   "outputs": [
    {
     "data": {
      "image/png": "[encoded data removed]",
      "text/plain": [
       "<Figure size 800x500 with 1 Axes>"
      ]
     },
     "metadata": {},
     "output_type": "display_data"
    }
   ],
   "source": [
    "plt.figure(figsize=(8, 5))\n",
    "region_sales.plot(kind='bar', color='skyblue')\n",
    "plt.title(\"Sales by Region\")\n",
    "plt.xlabel(\"Region\")\n",
    "plt.ylabel(\"Total Sales\")\n",
    "plt.show()"
   ]
  },
  {
   "cell_type": "markdown",
   "id": "b2f384c6-1b38-40b8-9804-f82c0cd49b76",
   "metadata": {},
   "source": [
    "### Product performance"
   ]
  },
  {
   "cell_type": "code",
   "execution_count": 94,
   "id": "f5194452-c77c-45e1-b046-28303d197576",
   "metadata": {},
   "outputs": [
    {
     "name": "stdout",
     "output_type": "stream",
     "text": [
      "\n",
      "Top 10 Products by Sales:\n",
      "ProductID\n",
      "P029    19513.80\n",
      "P079    17946.91\n",
      "P048    17905.20\n",
      "P020    15060.92\n",
      "P062    14592.24\n",
      "P059    13947.20\n",
      "P039    13778.88\n",
      "P083    13671.60\n",
      "P019    13487.95\n",
      "P041    13232.12\n",
      "Name: TotalValue, dtype: float64\n"
     ]
    }
   ],
   "source": [
    "product_performance = merged.groupby(\"ProductID\")[\"TotalValue\"].sum().sort_values(ascending=False).head(10)\n",
    "print(\"\\nTop 10 Products by Sales:\")\n",
    "print(product_performance)"
   ]
  },
  {
   "cell_type": "markdown",
   "id": "e2fadd5f-000a-4d68-87b9-c8fb48bcae05",
   "metadata": {},
   "source": [
    "### Visualize product performance"
   ]
  },
  {
   "cell_type": "code",
   "execution_count": 96,
   "id": "a030807a-285f-476a-a2c3-2433541ebcee",
   "metadata": {},
   "outputs": [
    {
     "data": {
      "image/png": "[encoded data removed]",
      "text/plain": [
       "<Figure size 800x500 with 1 Axes>"
      ]
     },
     "metadata": {},
     "output_type": "display_data"
    }
   ],
   "source": [
    "plt.figure(figsize=(8, 5))\n",
    "product_performance.plot(kind='bar', color='green')\n",
    "plt.title(\"Top 10 Products by Sales\")\n",
    "plt.xlabel(\"Product ID\")\n",
    "plt.ylabel(\"Total Sales\")\n",
    "plt.show()"
   ]
  },
  {
   "cell_type": "markdown",
   "id": "b98f2873-5072-48a2-8314-00133002ff25",
   "metadata": {},
   "source": [
    "### Heatmap to identify correlations\n"
   ]
  },
  {
   "cell_type": "code",
   "execution_count": 109,
   "id": "ee6cee7c-b09d-4539-828e-88a6c67dea37",
   "metadata": {},
   "outputs": [],
   "source": [
    "for column in merged.columns:\n",
    "    merged[column] = pd.to_numeric(merged[column], errors='coerce')\n",
    "\n",
    "\n"
   ]
  },
  {
   "cell_type": "code",
   "execution_count": 111,
   "id": "edef37cb-bf03-4d93-a74a-a631142af552",
   "metadata": {},
   "outputs": [],
   "source": [
    "numeric_data = merged.select_dtypes(include=[float, int])\n"
   ]
  },
  {
   "cell_type": "code",
   "execution_count": 113,
   "id": "15e01390-8ffd-42cf-abf0-4fcdad976fd2",
   "metadata": {},
   "outputs": [
    {
     "data": {
      "image/png": "[encoded data removed]",
      "text/plain": [
       "<Figure size 1000x600 with 2 Axes>"
      ]
     },
     "metadata": {},
     "output_type": "display_data"
    }
   ],
   "source": [
    "plt.figure(figsize=(10, 6))\n",
    "sns.heatmap(numeric_data.corr(), annot=True, cmap=\"coolwarm\", fmt=\".2f\")\n",
    "plt.title(\"Correlation Heatmap\")\n",
    "plt.show()"
   ]
  },
  {
   "cell_type": "code",
   "execution_count": null,
   "id": "b7fd006d-ff54-4f52-998c-e9abca45b6e5",
   "metadata": {},
   "outputs": [],
   "source": []
  }
 ],
 "metadata": {
  "kernelspec": {
   "display_name": "Python 3 (ipykernel)",
   "language": "python",
   "name": "python3"
  },
  "language_info": {
   "codemirror_mode": {
    "name": "ipython",
    "version": 3
   },
   "file_extension": ".py",
   "mimetype": "text/x-python",
   "name": "python",
   "nbconvert_exporter": "python",
   "pygments_lexer": "ipython3",
   "version": "3.12.4"
  }
 },
 "nbformat": 4,
 "nbformat_minor": 5
}
