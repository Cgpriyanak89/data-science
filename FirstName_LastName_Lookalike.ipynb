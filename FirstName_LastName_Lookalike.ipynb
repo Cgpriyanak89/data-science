{
 "cells": [
  {
   "cell_type": "markdown",
   "id": "760a8082-873f-4109-a3ce-a450a9dd8cee",
   "metadata": {},
   "source": [
    "### Lookalike Mode"
   ]
  },
  {
   "cell_type": "code",
   "execution_count": 2,
   "id": "b1adf301-ce4b-4111-9516-71449b741256",
   "metadata": {},
   "outputs": [],
   "source": [
    "import pandas as pd\n",
    "import numpy as np\n",
    "from sklearn.preprocessing import StandardScaler\n",
    "from sklearn.metrics.pairwise import cosine_similarity"
   ]
  },
  {
   "cell_type": "markdown",
   "id": "bbfeaa21-c6a1-4d76-8631-306905ee4912",
   "metadata": {},
   "source": [
    "### Load datasets\n"
   ]
  },
  {
   "cell_type": "code",
   "execution_count": 7,
   "id": "543de824-f10e-42c7-8841-cfbdb1fe88a3",
   "metadata": {},
   "outputs": [],
   "source": [
    "customers = pd.read_csv('Customers.csv')\n",
    "transactions = pd.read_csv('Transactions.csv')\n"
   ]
  },
  {
   "cell_type": "markdown",
   "id": "d4bde722-0d14-4477-b684-569ab6cce970",
   "metadata": {},
   "source": [
    "### Data Preparation( Summarize transaction data for each customer)\n"
   ]
  },
  {
   "cell_type": "code",
   "execution_count": 10,
   "id": "097f5807-1479-4592-acd9-682ae48e57f1",
   "metadata": {},
   "outputs": [],
   "source": [
    "tx_summary = transactions.groupby(\"CustomerID\").agg({\n",
    "    \"TotalValue\": \"sum\",  # Total spend\n",
    "    \"TransactionID\": \"count\"  # Transaction frequency\n",
    "}).rename(columns={\"TotalValue\": \"TotalSpend\", \"TransactionID\": \"TransactionCount\"})\n"
   ]
  },
  {
   "cell_type": "markdown",
   "id": "b8a22e34-e7d6-42e0-b6ed-dcbb35450651",
   "metadata": {},
   "source": [
    "### Merge customer data with transaction summary\n",
    "  \n",
    "\n"
   ]
  },
  {
   "cell_type": "code",
   "execution_count": 13,
   "id": "cf22717f-182b-4b2e-8f79-2114af03a403",
   "metadata": {},
   "outputs": [],
   "source": [
    "customer_data = customers.merge(tx_summary, on=\"CustomerID\", how=\"left\")\n",
    "customer_data.fillna(0, inplace=True)"
   ]
  },
  {
   "cell_type": "markdown",
   "id": "ee1b2cdb-47b5-4f9a-9b0e-0d3850c00562",
   "metadata": {},
   "source": [
    "###  Feature Scaling"
   ]
  },
  {
   "cell_type": "code",
   "execution_count": 20,
   "id": "c673af68-40da-43d5-85c1-349564c21754",
   "metadata": {},
   "outputs": [],
   "source": [
    "scaler = StandardScaler()\n",
    "features = [ \"TotalSpend\", \"TransactionCount\"]\n",
    "customer_data_scaled = scaler.fit_transform(customer_data[features])\n",
    "\n"
   ]
  },
  {
   "cell_type": "markdown",
   "id": "ad493ccf-aaab-47e8-93aa-f6fa074e0fd9",
   "metadata": {},
   "source": [
    "###  Compute Similarities"
   ]
  },
  {
   "cell_type": "code",
   "execution_count": 23,
   "id": "50675d30-12ea-457f-a4eb-3527500a41eb",
   "metadata": {},
   "outputs": [],
   "source": [
    "similarity_matrix = cosine_similarity(customer_data_scaled)"
   ]
  },
  {
   "cell_type": "markdown",
   "id": "c593b6b5-82e6-468d-a328-a7a19c3286c2",
   "metadata": {},
   "source": [
    "### Top Lookalikes\n"
   ]
  },
  {
   "cell_type": "code",
   "execution_count": 32,
   "id": "9c7b6ef2-59a7-41db-bf8b-500d8fa59c5b",
   "metadata": {},
   "outputs": [],
   "source": [
    "lookalikes = {}\n",
    "customer_ids = customer_data[\"CustomerID\"].values"
   ]
  },
  {
   "cell_type": "code",
   "execution_count": 36,
   "id": "ed06dc8c-c2b3-4228-98d8-e07440903c27",
   "metadata": {},
   "outputs": [],
   "source": [
    "for i, cust_id in enumerate(customer_ids):\n",
    "    scores = list(enumerate(similarity_matrix[i]))\n",
    "    # Sort by similarity score (descending) and exclude self-comparison\n",
    "    sorted_scores = sorted(scores, key=lambda x: x[1], reverse=True)[1:4]  # Top 3 similar customers\n",
    "    # Map customer IDs to similarity scores\n",
    "    lookalikes[cust_id] = [(customer_ids[j], round(score, 2)) for j, score in sorted_scores]\n"
   ]
  },
  {
   "cell_type": "markdown",
   "id": "ab6ff880-cfd0-4902-ba3b-8170ab50f740",
   "metadata": {},
   "source": [
    "### the results for the first 20 customers (C0001 - C0020)\n",
    "\n",
    "\n"
   ]
  },
  {
   "cell_type": "code",
   "execution_count": 39,
   "id": "7e9e7c70-4597-4be6-9339-34b370d876f8",
   "metadata": {},
   "outputs": [],
   "source": [
    "lookalike_results = {\n",
    "    cust_id: lookalikes[cust_id]\n",
    "    for cust_id in customer_ids if cust_id in customer_ids[:20]\n",
    "}\n"
   ]
  },
  {
   "cell_type": "markdown",
   "id": "3fc0c5a6-b0b9-409b-8cec-903c23dff173",
   "metadata": {},
   "source": [
    "### Convert to a DataFrame for saving\n"
   ]
  },
  {
   "cell_type": "code",
   "execution_count": 48,
   "id": "b7170fa1-f143-4714-9585-648907f47598",
   "metadata": {},
   "outputs": [
    {
     "name": "stdout",
     "output_type": "stream",
     "text": [
      "Lookalike recommendations saved to FirstName_LastName_Lookalike.csv.\n"
     ]
    }
   ],
   "source": [
    "lookalike_df = pd.DataFrame({\n",
    "    \"CustomerID\": list(lookalike_results.keys()),\n",
    "    \"Lookalikes\": [str(lookalike_results[cust_id]) for cust_id in lookalike_results.keys()]\n",
    "})\n",
    "lookalike_df.to_csv(\"FirstName_LastName_Lookalike.csv\", index=False)\n",
    "print(\"Lookalike recommendations saved to FirstName_LastName_Lookalike.csv.\")\n"
   ]
  },
  {
   "cell_type": "code",
   "execution_count": null,
   "id": "7e82ad7e-68c0-4e46-a5e7-1c7432c0afe7",
   "metadata": {},
   "outputs": [],
   "source": []
  }
 ],
 "metadata": {
  "kernelspec": {
   "display_name": "Python 3 (ipykernel)",
   "language": "python",
   "name": "python3"
  },
  "language_info": {
   "codemirror_mode": {
    "name": "ipython",
    "version": 3
   },
   "file_extension": ".py",
   "mimetype": "text/x-python",
   "name": "python",
   "nbconvert_exporter": "python",
   "pygments_lexer": "ipython3",
   "version": "3.12.4"
  }
 },
 "nbformat": 4,
 "nbformat_minor": 5
}
